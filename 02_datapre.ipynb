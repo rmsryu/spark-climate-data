{
 "cells": [
  {
   "cell_type": "code",
   "execution_count": 1,
   "id": "9ed7553f-425c-4504-b420-86eb996f623a",
   "metadata": {},
   "outputs": [
    {
     "data": {
      "text/html": [
       "\n",
       "        <div>\n",
       "            <p><b>SparkContext</b></p>\n",
       "\n",
       "            <p><a href=\"http://rmsryu-vm.internal.cloudapp.net:4040\">Spark UI</a></p>\n",
       "\n",
       "            <dl>\n",
       "              <dt>Version</dt>\n",
       "                <dd><code>v3.2.3</code></dd>\n",
       "              <dt>Master</dt>\n",
       "                <dd><code>local[*]</code></dd>\n",
       "              <dt>AppName</dt>\n",
       "                <dd><code>pyspark-shell</code></dd>\n",
       "            </dl>\n",
       "        </div>\n",
       "        "
      ],
      "text/plain": [
       "<SparkContext master=local[*] appName=pyspark-shell>"
      ]
     },
     "execution_count": 1,
     "metadata": {},
     "output_type": "execute_result"
    }
   ],
   "source": [
    "sc"
   ]
  },
  {
   "cell_type": "markdown",
   "id": "5c7d0dd1",
   "metadata": {},
   "source": [
    "# Loading (remote) E-OBS observations and summer days (SU) calculation\n",
    "\n",
    "Git repo: https://github.com/rmsryu/spark-climate-data.git\n",
    "Data set: https://www.ecad.eu/download/ensembles/download.php\n",
    "\n",
    "E-OBS data is loaded from the remote OpenDAP repository at KNMI. Please, note that when new versions become available the link is no longer valid since the URL is updated with the version number. Therefore, if the code below doesn't work please check the current E-OBS version and update the URL (https://www.ecad.eu/download/ensembles/download.php). \n",
    "\n",
    "# Study of daily precipitation from Station Aalsmeer Netherlands\n",
    "Data source: https://climexp.knmi.nl/data/rrrr458.dat\n",
    "Data provide by: Royal Netherlands Meteorological Institute (KNMI)"
   ]
  },
  {
   "cell_type": "code",
   "execution_count": 2,
   "id": "77387014",
   "metadata": {},
   "outputs": [],
   "source": [
    "import numpy as np\n",
    "import matplotlib.pyplot as plt\n",
    "from pyspark import SparkFiles\n",
    "from pyspark.sql.types import *\n",
    "from pyspark.sql.functions import *\n",
    "\n"
   ]
  },
  {
   "cell_type": "code",
   "execution_count": 3,
   "id": "4c9dcb4e-d35d-48cc-b82a-59011025d8bd",
   "metadata": {},
   "outputs": [],
   "source": [
    "import warnings\n",
    "warnings.filterwarnings(\"ignore\")"
   ]
  },
  {
   "cell_type": "code",
   "execution_count": 4,
   "id": "80e6ce84-7181-4764-a5f0-b1a12076e030",
   "metadata": {},
   "outputs": [
    {
     "name": "stderr",
     "output_type": "stream",
     "text": [
      "                                                                                \r"
     ]
    },
    {
     "data": {
      "text/plain": [
       "DataFrame[station: string, date: date, precipitation: float]"
      ]
     },
     "execution_count": 4,
     "metadata": {},
     "output_type": "execute_result"
    }
   ],
   "source": [
    "data_files = 'hdfs://hadoop-vm.internal.cloudapp.net:9000/precipitation/data/*/*.parquet'\n",
    "# Obtain dataset\n",
    "data = spark.read.parquet(data_files)\n",
    "data = data.withColumn(\"precipitation\", col(\"precipitation\").cast(\"float\"))\n",
    "data = data.withColumn(\"date\", col(\"date\").cast(\"date\"))\n",
    "data.createOrReplaceTempView(\"climate\")\n",
    "data.cache()"
   ]
  },
  {
   "cell_type": "code",
   "execution_count": 5,
   "id": "eaf9211c-2afb-4492-9756-1b14831f27c7",
   "metadata": {},
   "outputs": [
    {
     "name": "stderr",
     "output_type": "stream",
     "text": [
      "[Stage 4:>                                                          (0 + 1) / 1]\r"
     ]
    },
    {
     "name": "stdout",
     "output_type": "stream",
     "text": [
      "+-------+------------------+-----------------+\n",
      "|summary|           station|    precipitation|\n",
      "+-------+------------------+-----------------+\n",
      "|  count|          13120148|         13120148|\n",
      "|   mean|483.02698064076714| 2.13989743152896|\n",
      "| stddev|287.72368836944077|4.339730993138887|\n",
      "|    min|               001|              0.0|\n",
      "|    25%|             228.0|              0.0|\n",
      "|    50%|             466.0|              0.1|\n",
      "|    75%|             737.0|              2.4|\n",
      "|    max|               983|            208.0|\n",
      "+-------+------------------+-----------------+\n",
      "\n"
     ]
    },
    {
     "name": "stderr",
     "output_type": "stream",
     "text": [
      "                                                                                \r"
     ]
    }
   ],
   "source": [
    "data.summary().show()"
   ]
  },
  {
   "cell_type": "code",
   "execution_count": 122,
   "id": "e2d78c67-904e-4d66-8b77-ecaaeb154313",
   "metadata": {},
   "outputs": [
    {
     "name": "stderr",
     "output_type": "stream",
     "text": [
      "[Stage 276:====================================================>  (20 + 1) / 21]\r"
     ]
    },
    {
     "name": "stdout",
     "output_type": "stream",
     "text": [
      "+-------+--------+---------+-----+------------------+------------------+---+-----+-------------------+------------------+-----+\n",
      "|station|min_year|num_years|count|              mean|            stddev|min|25pct|              50pct|             75pct|  max|\n",
      "+-------+--------+---------+-----+------------------+------------------+---+-----+-------------------+------------------+-----+\n",
      "|    001|    1940|       83|29556| 2.174519556030149| 4.370148656161713|0.0|  0.0|0.10000000149011612|               2.5| 76.6|\n",
      "|    003|    1902|       51|18482|2.0838329184571815| 4.277456332945257|0.0|  0.0|0.10000000149011612| 2.299999952316284| 78.4|\n",
      "|    004|    1904|        1|  419| 1.617899758558996|3.4800441747162214|0.0|  0.0|0.10000000149011612| 1.399999976158142| 26.9|\n",
      "|    006|    1905|       38|13970|1.7968360776213679| 3.740703703355201|0.0|  0.0|0.10000000149011612| 1.899999976158142| 82.1|\n",
      "|    007|    1906|       44|15101|1.9131845566100272|3.8756137261021313|0.0|  0.0|                0.0| 2.200000047683716| 64.7|\n",
      "|    008|    1937|        3| 1096|1.5393248179614762|3.4753844346339866|0.0|  0.0|                0.0| 1.600000023841858| 38.0|\n",
      "|    009|    1851|      121|44406|1.8896342841528726|3.8899340549232315|0.0|  0.0|0.10000000149011612|2.0999999046325684| 83.3|\n",
      "|    010|    1872|      151|52324|2.0548104115429116| 4.179136243163778|0.0|  0.0|                0.0|2.4000000953674316|109.4|\n",
      "|    011|    1876|      147|53758| 2.082222180832206| 4.201727303440663|0.0|  0.0|0.10000000149011612|2.4000000953674316| 91.0|\n",
      "|    012|    1879|      144|42144| 2.113351841111213| 4.162499025008069|0.0|  0.0|                0.0|               2.5| 78.9|\n",
      "|    013|    1885|      100|15262| 2.010267331447858|3.9819975326866857|0.0|  0.0|0.20000000298023224| 2.299999952316284| 57.9|\n",
      "|    014|    1885|       67| 7476|1.7431514188726998| 3.773894477530973|0.0|  0.0|                0.0|1.7999999523162842| 56.0|\n",
      "|    015|    1885|      138|49809| 2.089361360136142| 4.329440914202082|0.0|  0.0|                0.0|2.4000000953674316| 85.5|\n",
      "|    016|    1891|      132|48159|2.0030503136297924| 4.152152517357461|0.0|  0.0|0.10000000149011612| 2.200000047683716|112.3|\n",
      "|    017|    1894|      129|29843|2.1887645339229724| 4.318287714354467|0.0|  0.0|0.20000000298023224|               2.5| 57.5|\n",
      "|    018|    1916|      107|36771|2.2269125135079992| 4.474478831477688|0.0|  0.0|0.10000000149011612| 2.700000047683716| 87.2|\n",
      "|    019|    1929|       94|34221|2.1881330180013485|4.3172841497787715|0.0|  0.0|0.20000000298023224|               2.5| 67.5|\n",
      "|    021|    1940|       83|29594|2.1730249374286683|4.3682149079767045|0.0|  0.0|0.10000000149011612|               2.5| 76.6|\n",
      "|    022|    1950|       73|26537|2.2094773349523833| 4.390459839096478|0.0|  0.0|0.20000000298023224|               2.5| 68.3|\n",
      "|    023|    1876|        9| 1824|1.8230263121066648| 3.806213185611394|0.0|  0.0|                0.0|               2.0| 38.2|\n",
      "+-------+--------+---------+-----+------------------+------------------+---+-----+-------------------+------------------+-----+\n",
      "only showing top 20 rows\n",
      "\n"
     ]
    },
    {
     "name": "stderr",
     "output_type": "stream",
     "text": [
      "                                                                                \r"
     ]
    }
   ],
   "source": [
    "spark.sql(\"SELECT station,\\\n",
    "              year(min(date)) min_year, \\\n",
    "              year(max(date)) - year(min(date)) num_years, \\\n",
    "              count(precipitation) count,\\\n",
    "              mean(precipitation) mean, \\\n",
    "              stddev(precipitation) stddev, \\\n",
    "              min(precipitation) min, \\\n",
    "              percentile(precipitation,0.25) 25pct, \\\n",
    "              percentile(precipitation,0.50) 50pct, \\\n",
    "              percentile(precipitation,0.75) 75pct, \\\n",
    "              max(precipitation) max \\\n",
    "            FROM climate GROUP BY station ORDER BY station\").show()"
   ]
  },
  {
   "cell_type": "markdown",
   "id": "52111369-e620-4ae8-9614-380c1ac21c9f",
   "metadata": {},
   "source": [
    "Finding stations with no missing values\n"
   ]
  },
  {
   "cell_type": "code",
   "execution_count": 153,
   "id": "31047580-4c33-4fed-b34d-bd5f79e950e1",
   "metadata": {},
   "outputs": [],
   "source": [
    "stations_years_complete  = spark.sql(\"SELECT station, year(date) year FROM climate GROUP BY station, year(date) having count(precipitation) = 365 \")"
   ]
  },
  {
   "cell_type": "code",
   "execution_count": 154,
   "id": "01fef492-4377-47bb-81f7-60b573a42387",
   "metadata": {},
   "outputs": [],
   "source": [
    "stations_years_complete = stations_years_complete.filter(col('year') > 1900)"
   ]
  },
  {
   "cell_type": "code",
   "execution_count": 155,
   "id": "f0d45afe-55c1-4235-af19-77434a1088ff",
   "metadata": {},
   "outputs": [],
   "source": [
    "stations_years_complete_g = stations_years_complete.groupby(\"station\").count()"
   ]
  },
  {
   "cell_type": "code",
   "execution_count": 162,
   "id": "471d654f-53b8-49f1-8954-4c7c9d4622f6",
   "metadata": {},
   "outputs": [
    {
     "name": "stderr",
     "output_type": "stream",
     "text": [
      "[Stage 474:============================>                          (11 + 4) / 21]\r"
     ]
    },
    {
     "name": "stdout",
     "output_type": "stream",
     "text": [
      "+-------+------------------+------------------+\n",
      "|summary|           station|             count|\n",
      "+-------+------------------+------------------+\n",
      "|  count|                26|                26|\n",
      "|   mean|432.38461538461536|  91.6923076923077|\n",
      "| stddev| 276.8216865670863|0.5491251783869141|\n",
      "|    min|               011|                91|\n",
      "|    25%|             145.0|                91|\n",
      "|    50%|             438.0|                92|\n",
      "|    75%|             663.0|                92|\n",
      "|    max|               961|                93|\n",
      "+-------+------------------+------------------+\n",
      "\n"
     ]
    },
    {
     "name": "stderr",
     "output_type": "stream",
     "text": [
      "                                                                                \r"
     ]
    }
   ],
   "source": [
    "stations_years_complete_f = stations_years_complete_g.filter(col(\"count\") > 90)\n",
    "stations_years_complete_f.summary().show()"
   ]
  },
  {
   "cell_type": "code",
   "execution_count": 172,
   "id": "aba07507-7bb3-47c0-96fa-b21a8f8e6c7c",
   "metadata": {},
   "outputs": [],
   "source": [
    "# Stations with more than 90 years of data\n",
    "stations_for_analysis = stations_years_complete_f.select(\"station\")"
   ]
  },
  {
   "cell_type": "code",
   "execution_count": 173,
   "id": "246e0a75-baaf-49b8-b3ad-02333865416e",
   "metadata": {},
   "outputs": [
    {
     "name": "stderr",
     "output_type": "stream",
     "text": [
      "                                                                                \r"
     ]
    }
   ],
   "source": [
    " stations_filter = [item.station for item in stations_for_analysis.collect()]"
   ]
  },
  {
   "cell_type": "code",
   "execution_count": 176,
   "id": "85420258-0516-43eb-8609-1cf584c7d612",
   "metadata": {},
   "outputs": [
    {
     "name": "stderr",
     "output_type": "stream",
     "text": [
      "[Stage 506:====================================================>  (20 + 1) / 21]\r"
     ]
    },
    {
     "name": "stdout",
     "output_type": "stream",
     "text": [
      "+-------+-----------------+------------------+\n",
      "|summary|          station|     precipitation|\n",
      "+-------+-----------------+------------------+\n",
      "|  count|          1345761|           1345761|\n",
      "|   mean|434.9810397239926|2.1177081224171546|\n",
      "| stddev|271.9042656388644| 4.274620138428894|\n",
      "|    min|              011|               0.0|\n",
      "|    25%|            145.0|               0.0|\n",
      "|    50%|            438.0|               0.1|\n",
      "|    75%|            663.0|               2.4|\n",
      "|    max|              961|             118.5|\n",
      "+-------+-----------------+------------------+\n",
      "\n"
     ]
    },
    {
     "name": "stderr",
     "output_type": "stream",
     "text": [
      "                                                                                \r"
     ]
    }
   ],
   "source": [
    "data = data.filter(data.station.isin(stations_filter))\n",
    "data.summary().show()"
   ]
  },
  {
   "cell_type": "code",
   "execution_count": 185,
   "id": "47b62729-cf10-48f7-8b77-60ee02264409",
   "metadata": {},
   "outputs": [
    {
     "data": {
      "text/plain": [
       "[('ArrayType', 1064),\n",
       " ('BinaryType', 1064),\n",
       " ('BooleanType', 1064),\n",
       " ('ByteType', 1064),\n",
       " ('Column', 1064),\n",
       " ('DataFrame', 1192),\n",
       " ('DataType', 1064),\n",
       " ('DateType', 1064),\n",
       " ('DecimalType', 1064),\n",
       " ('DoubleType', 1064),\n",
       " ('FloatType', 1064),\n",
       " ('IntegerType', 1064),\n",
       " ('LongType', 1064),\n",
       " ('MapType', 1064),\n",
       " ('NullType', 1064),\n",
       " ('PandasUDFType', 1064),\n",
       " ('PythonEvalType', 1064),\n",
       " ('ShortType', 1064),\n",
       " ('SparkContext', 1472),\n",
       " ('SparkFiles', 1064),\n",
       " ('SparkSession', 1192),\n",
       " ('StringType', 1064),\n",
       " ('StructField', 1064),\n",
       " ('StructType', 1064),\n",
       " ('TimestampType', 1064),\n",
       " ('UserDefinedFunction', 1064),\n",
       " ('abs', 136),\n",
       " ('acos', 136),\n",
       " ('acosh', 136),\n",
       " ('add_months', 136),\n",
       " ('aggregate', 136),\n",
       " ('approxCountDistinct', 136),\n",
       " ('approx_count_distinct', 136),\n",
       " ('array_contains', 136),\n",
       " ('array_distinct', 136),\n",
       " ('array_except', 136),\n",
       " ('array_intersect', 136),\n",
       " ('array_join', 136),\n",
       " ('array_max', 136),\n",
       " ('array_min', 136),\n",
       " ('array_position', 136),\n",
       " ('array_remove', 136),\n",
       " ('array_repeat', 136),\n",
       " ('array_sort', 136),\n",
       " ('array_union', 136),\n",
       " ('arrays_overlap', 136),\n",
       " ('arrays_zip', 136),\n",
       " ('asc', 136),\n",
       " ('asc_nulls_first', 136),\n",
       " ('asc_nulls_last', 136),\n",
       " ('ascii', 136),\n",
       " ('asin', 136),\n",
       " ('asinh', 136),\n",
       " ('assert_true', 136),\n",
       " ('atan', 136),\n",
       " ('atan2', 136),\n",
       " ('atanh', 136),\n",
       " ('avg', 136),\n",
       " ('bin', 136),\n",
       " ('bitwiseNOT', 136),\n",
       " ('bitwise_not', 136),\n",
       " ('broadcast', 136),\n",
       " ('bround', 136),\n",
       " ('bucket', 136),\n",
       " ('cbrt', 136),\n",
       " ('ceil', 136),\n",
       " ('coalesce', 136),\n",
       " ('col', 136),\n",
       " ('collect_list', 136),\n",
       " ('collect_set', 136),\n",
       " ('column', 136),\n",
       " ('concat', 136),\n",
       " ('concat_ws', 136),\n",
       " ('conv', 136),\n",
       " ('corr', 136),\n",
       " ('cos', 136),\n",
       " ('cosh', 136),\n",
       " ('count', 136),\n",
       " ('countDistinct', 136),\n",
       " ('count_distinct', 136),\n",
       " ('covar_pop', 136),\n",
       " ('covar_samp', 136),\n",
       " ('crc32', 136),\n",
       " ('create_map', 136),\n",
       " ('cume_dist', 136),\n",
       " ('current_date', 136),\n",
       " ('current_timestamp', 136),\n",
       " ('data', 48),\n",
       " ('data_files', 123),\n",
       " ('date_add', 136),\n",
       " ('date_format', 136),\n",
       " ('date_sub', 136),\n",
       " ('date_trunc', 136),\n",
       " ('datediff', 136),\n",
       " ('dayofmonth', 136),\n",
       " ('dayofweek', 136),\n",
       " ('dayofyear', 136),\n",
       " ('days', 136),\n",
       " ('decode', 136),\n",
       " ('degrees', 136),\n",
       " ('dense_rank', 136),\n",
       " ('desc', 136),\n",
       " ('desc_nulls_first', 136),\n",
       " ('desc_nulls_last', 136),\n",
       " ('df', 139959288),\n",
       " ('element_at', 136),\n",
       " ('encode', 136),\n",
       " ('exists', 136),\n",
       " ('exp', 136),\n",
       " ('explode', 136),\n",
       " ('explode_outer', 136),\n",
       " ('expm1', 136),\n",
       " ('expr', 136),\n",
       " ('factorial', 136),\n",
       " ('filter', 136),\n",
       " ('first', 136),\n",
       " ('flatten', 136),\n",
       " ('floor', 136),\n",
       " ('forall', 136),\n",
       " ('format_number', 136),\n",
       " ('format_string', 136),\n",
       " ('from_csv', 136),\n",
       " ('from_json', 136),\n",
       " ('from_unixtime', 136),\n",
       " ('from_utc_timestamp', 136),\n",
       " ('get_json_object', 136),\n",
       " ('greatest', 136),\n",
       " ('grouping', 136),\n",
       " ('grouping_id', 136),\n",
       " ('hash', 136),\n",
       " ('hex', 136),\n",
       " ('hour', 136),\n",
       " ('hours', 136),\n",
       " ('hypot', 136),\n",
       " ('initcap', 136),\n",
       " ('input_file_name', 136),\n",
       " ('instr', 136),\n",
       " ('isnan', 136),\n",
       " ('isnull', 136),\n",
       " ('json_tuple', 136),\n",
       " ('kurtosis', 136),\n",
       " ('l2', 336),\n",
       " ('lag', 136),\n",
       " ('last', 136),\n",
       " ('last_day', 136),\n",
       " ('lead', 136),\n",
       " ('least', 136),\n",
       " ('length', 136),\n",
       " ('levenshtein', 136),\n",
       " ('lit', 136),\n",
       " ('locate', 136),\n",
       " ('log', 136),\n",
       " ('log10', 136),\n",
       " ('log1p', 136),\n",
       " ('log2', 136),\n",
       " ('lower', 136),\n",
       " ('lpad', 136),\n",
       " ('ltrim', 136),\n",
       " ('map_concat', 136),\n",
       " ('map_entries', 136),\n",
       " ('map_filter', 136),\n",
       " ('map_from_arrays', 136),\n",
       " ('map_from_entries', 136),\n",
       " ('map_keys', 136),\n",
       " ('map_values', 136),\n",
       " ('map_zip_with', 136),\n",
       " ('max', 136),\n",
       " ('md5', 136),\n",
       " ('mean', 136),\n",
       " ('min', 136),\n",
       " ('minute', 136),\n",
       " ('monotonically_increasing_id', 136),\n",
       " ('month', 136),\n",
       " ('months', 136),\n",
       " ('months_between', 136),\n",
       " ('nanvl', 136),\n",
       " ('next_day', 136),\n",
       " ('np', 72),\n",
       " ('nth_value', 136),\n",
       " ('ntile', 136),\n",
       " ('open', 136),\n",
       " ('overlay', 136),\n",
       " ('pandas_udf', 136),\n",
       " ('percent_rank', 136),\n",
       " ('percentile_approx', 136),\n",
       " ('plt', 72),\n",
       " ('posexplode', 136),\n",
       " ('posexplode_outer', 136),\n",
       " ('pow', 136),\n",
       " ('product', 136),\n",
       " ('quarter', 136),\n",
       " ('radians', 136),\n",
       " ('raise_error', 136),\n",
       " ('rand', 136),\n",
       " ('randn', 136),\n",
       " ('rank', 136),\n",
       " ('regexp_extract', 136),\n",
       " ('regexp_replace', 136),\n",
       " ('repeat', 136),\n",
       " ('reverse', 136),\n",
       " ('rint', 136),\n",
       " ('round', 136),\n",
       " ('row_number', 136),\n",
       " ('rpad', 136),\n",
       " ('rtrim', 136),\n",
       " ('sc', 48),\n",
       " ('schema_of_csv', 136),\n",
       " ('schema_of_json', 136),\n",
       " ('second', 136),\n",
       " ('sentences', 136),\n",
       " ('sequence', 136),\n",
       " ('session_window', 136),\n",
       " ('sha1', 136),\n",
       " ('sha2', 136),\n",
       " ('shiftLeft', 136),\n",
       " ('shiftRight', 136),\n",
       " ('shiftRightUnsigned', 136),\n",
       " ('shiftleft', 136),\n",
       " ('shiftright', 136),\n",
       " ('shiftrightunsigned', 136),\n",
       " ('shuffle', 136),\n",
       " ('signum', 136),\n",
       " ('sin', 136),\n",
       " ('since', 136),\n",
       " ('sinh', 136),\n",
       " ('size', 136),\n",
       " ('skewness', 136),\n",
       " ('slice', 136),\n",
       " ('sort_array', 136),\n",
       " ('soundex', 136),\n",
       " ('spark', 48),\n",
       " ('spark_partition_id', 136),\n",
       " ('split', 136),\n",
       " ('sql', 64),\n",
       " ('sqlContext', 48),\n",
       " ('sqlCtx', 48),\n",
       " ('sqrt', 136),\n",
       " ('stations_filter', 336),\n",
       " ('stations_for_analysis', 48),\n",
       " ('stations_years_complete', 48),\n",
       " ('stations_years_complete_f', 48),\n",
       " ('stations_years_complete_g', 48),\n",
       " ('stddev', 136),\n",
       " ('stddev_pop', 136),\n",
       " ('stddev_samp', 136),\n",
       " ('substring', 136),\n",
       " ('substring_index', 136),\n",
       " ('sum', 136),\n",
       " ('sumDistinct', 136),\n",
       " ('sum_distinct', 136),\n",
       " ('tan', 136),\n",
       " ('tanh', 136),\n",
       " ('timestamp_seconds', 136),\n",
       " ('toDegrees', 136),\n",
       " ('toRadians', 136),\n",
       " ('to_csv', 136),\n",
       " ('to_date', 136),\n",
       " ('to_json', 136),\n",
       " ('to_str', 136),\n",
       " ('to_timestamp', 136),\n",
       " ('to_utc_timestamp', 136),\n",
       " ('transform', 136),\n",
       " ('transform_keys', 136),\n",
       " ('transform_values', 136),\n",
       " ('translate', 136),\n",
       " ('trim', 136),\n",
       " ('trunc', 136),\n",
       " ('udf', 136),\n",
       " ('unbase64', 136),\n",
       " ('unhex', 136),\n",
       " ('unix_timestamp', 136),\n",
       " ('upper', 136),\n",
       " ('var_pop', 136),\n",
       " ('var_samp', 136),\n",
       " ('variance', 136),\n",
       " ('weekofyear', 136),\n",
       " ('when', 136),\n",
       " ('window', 136),\n",
       " ('xxhash64', 136),\n",
       " ('year', 136),\n",
       " ('years', 136),\n",
       " ('zip_with', 136)]"
      ]
     },
     "execution_count": 187,
     "metadata": {},
     "output_type": "execute_result"
    }
   ],
   "source": [
    "import sys\n",
    "\n",
    "# These are the usual ipython objects, including this one you are creating\n",
    "ipython_vars = ['In', 'Out', 'exit', 'quit', 'get_ipython', 'ipython_vars']\n",
    "\n",
    "# Get a sorted list of the objects and their sizes\n",
    "sorted([(x, sys.getsizeof(globals().get(x))) for x in dir() if not x.startswith('_') and x not in sys.modules and x not in ipython_vars], key=lambda x: x[1], reverse=True)"
   ]
  }
 ],
 "metadata": {
  "kernelspec": {
   "display_name": "Python 3.8 - Spark (local)",
   "language": "python",
   "name": "spark-3-python"
  },
  "language_info": {
   "codemirror_mode": {
    "name": "ipython",
    "version": 3
   },
   "file_extension": ".py",
   "mimetype": "text/x-python",
   "name": "python",
   "nbconvert_exporter": "python",
   "pygments_lexer": "ipython3",
   "version": "3.8.15"
  }
 },
 "nbformat": 4,
 "nbformat_minor": 5
}
