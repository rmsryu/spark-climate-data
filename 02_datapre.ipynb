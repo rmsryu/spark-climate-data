{
 "cells": [
  {
   "cell_type": "code",
   "execution_count": null,
   "id": "9ed7553f-425c-4504-b420-86eb996f623a",
   "metadata": {},
   "outputs": [
    {
     "data": {
      "text/html": [
       "\n",
       "        <div>\n",
       "            <p><b>SparkContext</b></p>\n",
       "\n",
       "            <p><a href=\"http://rmsryu-vm.internal.cloudapp.net:4041\">Spark UI</a></p>\n",
       "\n",
       "            <dl>\n",
       "              <dt>Version</dt>\n",
       "                <dd><code>v3.2.3</code></dd>\n",
       "              <dt>Master</dt>\n",
       "                <dd><code>local[*]</code></dd>\n",
       "              <dt>AppName</dt>\n",
       "                <dd><code>pyspark-shell</code></dd>\n",
       "            </dl>\n",
       "        </div>\n",
       "        "
      ],
      "text/plain": [
       "<SparkContext master=local[*] appName=pyspark-shell>"
      ]
     },
     "execution_count": 1,
     "metadata": {},
     "output_type": "execute_result"
    }
   ],
   "source": [
    "sc"
   ]
  },
  {
   "cell_type": "markdown",
   "id": "5c7d0dd1",
   "metadata": {},
   "source": [
    "# Loading (remote) E-OBS observations and summer days (SU) calculation\n",
    "\n",
    "Git repo: https://github.com/rmsryu/spark-climate-data.git\n",
    "Data set: https://www.ecad.eu/download/ensembles/download.php\n",
    "\n",
    "E-OBS data is loaded from the remote OpenDAP repository at KNMI. Please, note that when new versions become available the link is no longer valid since the URL is updated with the version number. Therefore, if the code below doesn't work please check the current E-OBS version and update the URL (https://www.ecad.eu/download/ensembles/download.php). \n",
    "\n",
    "# Study of daily precipitation from Station Aalsmeer Netherlands\n",
    "Data source: https://climexp.knmi.nl/data/rrrr458.dat\n",
    "Data provide by: Royal Netherlands Meteorological Institute (KNMI)"
   ]
  },
  {
   "cell_type": "code",
   "execution_count": 113,
   "id": "77387014",
   "metadata": {},
   "outputs": [],
   "source": [
    "import numpy as np\n",
    "import matplotlib.pyplot as plt\n",
    "from pyspark import SparkFiles\n",
    "from pyspark.sql.types import *\n",
    "from pyspark.sql.functions import *\n",
    "\n"
   ]
  },
  {
   "cell_type": "code",
   "execution_count": 114,
   "id": "80e6ce84-7181-4764-a5f0-b1a12076e030",
   "metadata": {},
   "outputs": [
    {
     "name": "stderr",
     "output_type": "stream",
     "text": [
      "                                                                                \r"
     ]
    },
    {
     "data": {
      "text/plain": [
       "DataFrame[station: string, date: date, precipitation: float]"
      ]
     },
     "execution_count": 114,
     "metadata": {},
     "output_type": "execute_result"
    }
   ],
   "source": [
    "data_files = 'hdfs://hadoop-vm.internal.cloudapp.net:9000/precipitation/data/*/*.parquet'\n",
    "# Obtain dataset\n",
    "data = spark.read.parquet(data_files)\n",
    "data = data.withColumn(\"precipitation\", col(\"precipitation\").cast(\"float\"))\n",
    "data = data.withColumn(\"date\", col(\"date\").cast(\"date\"))\n",
    "data.createOrReplaceTempView(\"climate\")\n",
    "data.cache()"
   ]
  },
  {
   "cell_type": "code",
   "execution_count": 117,
   "id": "eaf9211c-2afb-4492-9756-1b14831f27c7",
   "metadata": {},
   "outputs": [
    {
     "name": "stderr",
     "output_type": "stream",
     "text": [
      "[Stage 397:>                                                        (0 + 1) / 1]\r"
     ]
    },
    {
     "name": "stdout",
     "output_type": "stream",
     "text": [
      "+-------+------------------+-----------------+\n",
      "|summary|           station|    precipitation|\n",
      "+-------+------------------+-----------------+\n",
      "|  count|          13120148|         13120148|\n",
      "|   mean|483.02698064076714| 2.13989743152896|\n",
      "| stddev|287.72368836944077|4.339730993138887|\n",
      "|    min|               001|              0.0|\n",
      "|    25%|             228.0|              0.0|\n",
      "|    50%|             466.0|              0.1|\n",
      "|    75%|             737.0|              2.4|\n",
      "|    max|               983|            208.0|\n",
      "+-------+------------------+-----------------+\n",
      "\n"
     ]
    },
    {
     "name": "stderr",
     "output_type": "stream",
     "text": [
      "                                                                                \r"
     ]
    }
   ],
   "source": [
    "data.summary().show()"
   ]
  },
  {
   "cell_type": "code",
   "execution_count": 115,
   "id": "e2d78c67-904e-4d66-8b77-ecaaeb154313",
   "metadata": {},
   "outputs": [
    {
     "name": "stderr",
     "output_type": "stream",
     "text": [
      "[Stage 389:====================================================>  (20 + 1) / 21]\r"
     ]
    },
    {
     "name": "stdout",
     "output_type": "stream",
     "text": [
      "+-------+--------+---------+-----+------------------+------------------+---+-----+-------------------+------------------+-----+\n",
      "|station|min_year|num_years|count|              mean|            stddev|min|25pct|              50pct|             75pct|  max|\n",
      "+-------+--------+---------+-----+------------------+------------------+---+-----+-------------------+------------------+-----+\n",
      "|    001|    1940|       83|29556| 2.174519556030149| 4.370148656161713|0.0|  0.0|0.10000000149011612|               2.5| 76.6|\n",
      "|    003|    1902|       51|18482|2.0838329184571815| 4.277456332945257|0.0|  0.0|0.10000000149011612| 2.299999952316284| 78.4|\n",
      "|    004|    1904|        1|  419| 1.617899758558996|3.4800441747162214|0.0|  0.0|0.10000000149011612| 1.399999976158142| 26.9|\n",
      "|    006|    1905|       38|13970|1.7968360776213679| 3.740703703355201|0.0|  0.0|0.10000000149011612| 1.899999976158142| 82.1|\n",
      "|    007|    1906|       44|15101|1.9131845566100272|3.8756137261021313|0.0|  0.0|                0.0| 2.200000047683716| 64.7|\n",
      "|    008|    1937|        3| 1096|1.5393248179614762|3.4753844346339866|0.0|  0.0|                0.0| 1.600000023841858| 38.0|\n",
      "|    009|    1851|      121|44406|1.8896342841528726|3.8899340549232315|0.0|  0.0|0.10000000149011612|2.0999999046325684| 83.3|\n",
      "|    010|    1872|      151|52324|2.0548104115429116| 4.179136243163778|0.0|  0.0|                0.0|2.4000000953674316|109.4|\n",
      "|    011|    1876|      147|53758| 2.082222180832206| 4.201727303440663|0.0|  0.0|0.10000000149011612|2.4000000953674316| 91.0|\n",
      "|    012|    1879|      144|42144| 2.113351841111213| 4.162499025008069|0.0|  0.0|                0.0|               2.5| 78.9|\n",
      "|    013|    1885|      100|15262| 2.010267331447858|3.9819975326866857|0.0|  0.0|0.20000000298023224| 2.299999952316284| 57.9|\n",
      "|    014|    1885|       67| 7476|1.7431514188726998| 3.773894477530973|0.0|  0.0|                0.0|1.7999999523162842| 56.0|\n",
      "|    015|    1885|      138|49809| 2.089361360136142| 4.329440914202082|0.0|  0.0|                0.0|2.4000000953674316| 85.5|\n",
      "|    016|    1891|      132|48159|2.0030503136297924| 4.152152517357461|0.0|  0.0|0.10000000149011612| 2.200000047683716|112.3|\n",
      "|    017|    1894|      129|29843|2.1887645339229724| 4.318287714354467|0.0|  0.0|0.20000000298023224|               2.5| 57.5|\n",
      "|    018|    1916|      107|36771|2.2269125135079992| 4.474478831477688|0.0|  0.0|0.10000000149011612| 2.700000047683716| 87.2|\n",
      "|    019|    1929|       94|34221|2.1881330180013485|4.3172841497787715|0.0|  0.0|0.20000000298023224|               2.5| 67.5|\n",
      "|    021|    1940|       83|29594|2.1730249374286683|4.3682149079767045|0.0|  0.0|0.10000000149011612|               2.5| 76.6|\n",
      "|    022|    1950|       73|26537|2.2094773349523833| 4.390459839096478|0.0|  0.0|0.20000000298023224|               2.5| 68.3|\n",
      "|    023|    1876|        9| 1824|1.8230263121066648| 3.806213185611394|0.0|  0.0|                0.0|               2.0| 38.2|\n",
      "+-------+--------+---------+-----+------------------+------------------+---+-----+-------------------+------------------+-----+\n",
      "only showing top 20 rows\n",
      "\n"
     ]
    },
    {
     "name": "stderr",
     "output_type": "stream",
     "text": [
      "                                                                                \r"
     ]
    }
   ],
   "source": [
    "spark.sql(\"SELECT station,\\\n",
    "              year(min(date)) min_year, \\\n",
    "              year(max(date)) - year(min(date)) num_years, \\\n",
    "              count(precipitation) count,\\\n",
    "              mean(precipitation) mean, \\\n",
    "              stddev(precipitation) stddev, \\\n",
    "              min(precipitation) min, \\\n",
    "              percentile(precipitation,0.25) 25pct, \\\n",
    "              percentile(precipitation,0.50) 50pct, \\\n",
    "              percentile(precipitation,0.75) 75pct, \\\n",
    "              max(precipitation) max \\\n",
    "            FROM climate GROUP BY station ORDER BY station\").show()"
   ]
  },
  {
   "cell_type": "code",
   "execution_count": 39,
   "id": "5d63bed2-273d-42a9-9144-50d616ef12d1",
   "metadata": {},
   "outputs": [],
   "source": [
    "# take 20 % for visualize\n",
    "data_plot = data[data.precipitation > 20]"
   ]
  },
  {
   "cell_type": "code",
   "execution_count": 40,
   "id": "bd66c88b-237d-4532-ba0e-7d7862d10b78",
   "metadata": {},
   "outputs": [
    {
     "name": "stdout",
     "output_type": "stream",
     "text": [
      "{\"@version\":1,\"source_host\":\"rmsryu-vm\",\"message\":\"No Partition Defined for Window operation! Moving all data to a single partition, this can cause serious performance degradation.\",\"thread_name\":\"Thread-4\",\"@timestamp\":\"2023-03-30T19:16:35.161+0000\",\"level\":\"WARN\",\"logger_name\":\"org.apache.spark.sql.execution.window.WindowExec\"}\n",
      "{\"@version\":1,\"source_host\":\"rmsryu-vm\",\"message\":\"No Partition Defined for Window operation! Moving all data to a single partition, this can cause serious performance degradation.\",\"thread_name\":\"Thread-4\",\"@timestamp\":\"2023-03-30T19:16:35.162+0000\",\"level\":\"WARN\",\"logger_name\":\"org.apache.spark.sql.execution.window.WindowExec\"}\n",
      "{\"@version\":1,\"source_host\":\"rmsryu-vm\",\"message\":\"No Partition Defined for Window operation! Moving all data to a single partition, this can cause serious performance degradation.\",\"thread_name\":\"Thread-4\",\"@timestamp\":\"2023-03-30T19:16:35.400+0000\",\"level\":\"WARN\",\"logger_name\":\"org.apache.spark.sql.execution.window.WindowExec\"}\n"
     ]
    },
    {
     "data": {
      "image/png": "[encoded data removed]",
      "text/plain": [
       "<Figure size 640x480 with 1 Axes>"
      ]
     },
     "metadata": {},
     "output_type": "display_data"
    }
   ],
   "source": [
    "values = data_plot.to_pandas_on_spark().precipitation.tolist()\n",
    "fig = plt.hist(values, bins=15, color='lightblue', ec = 'black')"
   ]
  },
  {
   "cell_type": "code",
   "execution_count": 79,
   "id": "d9b8f723-dbe7-4874-9ca5-64bf8978d4af",
   "metadata": {},
   "outputs": [],
   "source": [
    "station_years_prep = spark.sql(\"SELECT month(date) month, mean(precipitation) m_prep\\\n",
    "            FROM climate GROUP BY month(date) ORDER BY month(date)\")"
   ]
  },
  {
   "cell_type": "code",
   "execution_count": 81,
   "id": "c16dbb61-fd69-4998-997d-d8961b87e232",
   "metadata": {},
   "outputs": [
    {
     "ename": "IndexError",
     "evalue": "tuple index out of range",
     "output_type": "error",
     "traceback": [
      "\u001b[0;31m---------------------------------------------------------------------------\u001b[0m",
      "\u001b[0;31mIndexError\u001b[0m                                Traceback (most recent call last)",
      "Cell \u001b[0;32mIn[81], line 1\u001b[0m\n\u001b[0;32m----> 1\u001b[0m plt\u001b[38;5;241m.\u001b[39mplot(\u001b[43mstation_years_prep\u001b[49m\u001b[38;5;241;43m.\u001b[39;49m\u001b[43mto_pandas_on_spark\u001b[49m\u001b[43m(\u001b[49m\u001b[43m)\u001b[49m\u001b[43m[\u001b[49m\u001b[38;5;124;43m'\u001b[39;49m\u001b[38;5;124;43mmonth\u001b[39;49m\u001b[38;5;124;43m'\u001b[39;49m\u001b[43m,\u001b[49m\u001b[38;5;124;43m'\u001b[39;49m\u001b[38;5;124;43mm_prep\u001b[39;49m\u001b[38;5;124;43m'\u001b[39;49m\u001b[43m]\u001b[49m)\n",
      "File \u001b[0;32m/dsvm/tools/spark/current/python/pyspark/pandas/frame.py:11778\u001b[0m, in \u001b[0;36mDataFrame.__getitem__\u001b[0;34m(self, key)\u001b[0m\n\u001b[1;32m  11776\u001b[0m     \u001b[38;5;28;01mreturn\u001b[39;00m \u001b[38;5;28mself\u001b[39m\u001b[38;5;241m.\u001b[39mloc[key]\n\u001b[1;32m  11777\u001b[0m \u001b[38;5;28;01melif\u001b[39;00m is_name_like_value(key):\n\u001b[0;32m> 11778\u001b[0m     \u001b[38;5;28;01mreturn\u001b[39;00m \u001b[38;5;28;43mself\u001b[39;49m\u001b[38;5;241;43m.\u001b[39;49m\u001b[43mloc\u001b[49m\u001b[43m[\u001b[49m\u001b[43m:\u001b[49m\u001b[43m,\u001b[49m\u001b[43m \u001b[49m\u001b[43mkey\u001b[49m\u001b[43m]\u001b[49m\n\u001b[1;32m  11779\u001b[0m \u001b[38;5;28;01melif\u001b[39;00m is_list_like(key):\n\u001b[1;32m  11780\u001b[0m     \u001b[38;5;28;01mreturn\u001b[39;00m \u001b[38;5;28mself\u001b[39m\u001b[38;5;241m.\u001b[39mloc[:, \u001b[38;5;28mlist\u001b[39m(key)]\n",
      "File \u001b[0;32m/dsvm/tools/spark/current/python/pyspark/pandas/indexing.py:480\u001b[0m, in \u001b[0;36mLocIndexerLike.__getitem__\u001b[0;34m(self, key)\u001b[0m\n\u001b[1;32m    471\u001b[0m     \u001b[38;5;28;01mreturn\u001b[39;00m \u001b[38;5;28mtype\u001b[39m(\u001b[38;5;28mself\u001b[39m)(psdf)[psdf[temp_col], cols_sel][\u001b[38;5;28mlist\u001b[39m(\u001b[38;5;28mself\u001b[39m\u001b[38;5;241m.\u001b[39m_psdf_or_psser\u001b[38;5;241m.\u001b[39mcolumns)]\n\u001b[1;32m    473\u001b[0m cond, limit, remaining_index \u001b[38;5;241m=\u001b[39m \u001b[38;5;28mself\u001b[39m\u001b[38;5;241m.\u001b[39m_select_rows(rows_sel)\n\u001b[1;32m    474\u001b[0m (\n\u001b[1;32m    475\u001b[0m     column_labels,\n\u001b[1;32m    476\u001b[0m     data_spark_columns,\n\u001b[1;32m    477\u001b[0m     data_fields,\n\u001b[1;32m    478\u001b[0m     returns_series,\n\u001b[1;32m    479\u001b[0m     series_name,\n\u001b[0;32m--> 480\u001b[0m ) \u001b[38;5;241m=\u001b[39m \u001b[38;5;28;43mself\u001b[39;49m\u001b[38;5;241;43m.\u001b[39;49m\u001b[43m_select_cols\u001b[49m\u001b[43m(\u001b[49m\u001b[43mcols_sel\u001b[49m\u001b[43m)\u001b[49m\n\u001b[1;32m    482\u001b[0m \u001b[38;5;28;01mif\u001b[39;00m cond \u001b[38;5;129;01mis\u001b[39;00m \u001b[38;5;28;01mNone\u001b[39;00m \u001b[38;5;129;01mand\u001b[39;00m limit \u001b[38;5;129;01mis\u001b[39;00m \u001b[38;5;28;01mNone\u001b[39;00m \u001b[38;5;129;01mand\u001b[39;00m returns_series:\n\u001b[1;32m    483\u001b[0m     psser \u001b[38;5;241m=\u001b[39m \u001b[38;5;28mself\u001b[39m\u001b[38;5;241m.\u001b[39m_psdf_or_psser\u001b[38;5;241m.\u001b[39m_psser_for(column_labels[\u001b[38;5;241m0\u001b[39m])\n",
      "File \u001b[0;32m/dsvm/tools/spark/current/python/pyspark/pandas/indexing.py:323\u001b[0m, in \u001b[0;36mLocIndexerLike._select_cols\u001b[0;34m(self, cols_sel, missing_keys)\u001b[0m\n\u001b[1;32m    321\u001b[0m     \u001b[38;5;28;01mreturn\u001b[39;00m \u001b[38;5;28mself\u001b[39m\u001b[38;5;241m.\u001b[39m_select_cols_by_slice(cols_sel, missing_keys)\n\u001b[1;32m    322\u001b[0m \u001b[38;5;28;01melif\u001b[39;00m \u001b[38;5;28misinstance\u001b[39m(cols_sel, \u001b[38;5;28mtuple\u001b[39m):\n\u001b[0;32m--> 323\u001b[0m     \u001b[38;5;28;01mreturn\u001b[39;00m \u001b[38;5;28;43mself\u001b[39;49m\u001b[38;5;241;43m.\u001b[39;49m\u001b[43m_select_cols_else\u001b[49m\u001b[43m(\u001b[49m\u001b[43mcols_sel\u001b[49m\u001b[43m,\u001b[49m\u001b[43m \u001b[49m\u001b[43mmissing_keys\u001b[49m\u001b[43m)\u001b[49m\n\u001b[1;32m    324\u001b[0m \u001b[38;5;28;01melif\u001b[39;00m is_list_like(cols_sel):\n\u001b[1;32m    325\u001b[0m     \u001b[38;5;28;01mreturn\u001b[39;00m \u001b[38;5;28mself\u001b[39m\u001b[38;5;241m.\u001b[39m_select_cols_by_iterable(cols_sel, missing_keys)\n",
      "File \u001b[0;32m/dsvm/tools/spark/current/python/pyspark/pandas/indexing.py:1373\u001b[0m, in \u001b[0;36mLocIndexer._select_cols_else\u001b[0;34m(self, cols_sel, missing_keys)\u001b[0m\n\u001b[1;32m   1371\u001b[0m \u001b[38;5;28;01mif\u001b[39;00m \u001b[38;5;129;01mnot\u001b[39;00m is_name_like_tuple(cols_sel):\n\u001b[1;32m   1372\u001b[0m     cols_sel \u001b[38;5;241m=\u001b[39m (cols_sel,)\n\u001b[0;32m-> 1373\u001b[0m \u001b[38;5;28;01mreturn\u001b[39;00m \u001b[38;5;28;43mself\u001b[39;49m\u001b[38;5;241;43m.\u001b[39;49m\u001b[43m_get_from_multiindex_column\u001b[49m\u001b[43m(\u001b[49m\u001b[43mcols_sel\u001b[49m\u001b[43m,\u001b[49m\u001b[43m \u001b[49m\u001b[43mmissing_keys\u001b[49m\u001b[43m)\u001b[49m\n",
      "File \u001b[0;32m/dsvm/tools/spark/current/python/pyspark/pandas/indexing.py:1184\u001b[0m, in \u001b[0;36mLocIndexer._get_from_multiindex_column\u001b[0;34m(self, key, missing_keys, labels, recursed)\u001b[0m\n\u001b[1;32m   1182\u001b[0m     labels \u001b[38;5;241m=\u001b[39m [(label, label) \u001b[38;5;28;01mfor\u001b[39;00m label \u001b[38;5;129;01min\u001b[39;00m \u001b[38;5;28mself\u001b[39m\u001b[38;5;241m.\u001b[39m_internal\u001b[38;5;241m.\u001b[39mcolumn_labels]\n\u001b[1;32m   1183\u001b[0m \u001b[38;5;28;01mfor\u001b[39;00m k \u001b[38;5;129;01min\u001b[39;00m key:\n\u001b[0;32m-> 1184\u001b[0m     labels \u001b[38;5;241m=\u001b[39m [\n\u001b[1;32m   1185\u001b[0m         (label, \u001b[38;5;28;01mNone\u001b[39;00m \u001b[38;5;28;01mif\u001b[39;00m lbl \u001b[38;5;129;01mis\u001b[39;00m \u001b[38;5;28;01mNone\u001b[39;00m \u001b[38;5;28;01melse\u001b[39;00m lbl[\u001b[38;5;241m1\u001b[39m:])\n\u001b[1;32m   1186\u001b[0m         \u001b[38;5;28;01mfor\u001b[39;00m label, lbl \u001b[38;5;129;01min\u001b[39;00m labels\n\u001b[1;32m   1187\u001b[0m         \u001b[38;5;28;01mif\u001b[39;00m (lbl \u001b[38;5;129;01mis\u001b[39;00m \u001b[38;5;28;01mNone\u001b[39;00m \u001b[38;5;129;01mand\u001b[39;00m k \u001b[38;5;129;01mis\u001b[39;00m \u001b[38;5;28;01mNone\u001b[39;00m) \u001b[38;5;129;01mor\u001b[39;00m (lbl \u001b[38;5;129;01mis\u001b[39;00m \u001b[38;5;129;01mnot\u001b[39;00m \u001b[38;5;28;01mNone\u001b[39;00m \u001b[38;5;129;01mand\u001b[39;00m lbl[\u001b[38;5;241m0\u001b[39m] \u001b[38;5;241m==\u001b[39m k)\n\u001b[1;32m   1188\u001b[0m     ]\n\u001b[1;32m   1189\u001b[0m     \u001b[38;5;28;01mif\u001b[39;00m \u001b[38;5;28mlen\u001b[39m(labels) \u001b[38;5;241m==\u001b[39m \u001b[38;5;241m0\u001b[39m:\n\u001b[1;32m   1190\u001b[0m         \u001b[38;5;28;01mif\u001b[39;00m missing_keys \u001b[38;5;129;01mis\u001b[39;00m \u001b[38;5;28;01mNone\u001b[39;00m:\n",
      "File \u001b[0;32m/dsvm/tools/spark/current/python/pyspark/pandas/indexing.py:1187\u001b[0m, in \u001b[0;36m<listcomp>\u001b[0;34m(.0)\u001b[0m\n\u001b[1;32m   1182\u001b[0m     labels \u001b[38;5;241m=\u001b[39m [(label, label) \u001b[38;5;28;01mfor\u001b[39;00m label \u001b[38;5;129;01min\u001b[39;00m \u001b[38;5;28mself\u001b[39m\u001b[38;5;241m.\u001b[39m_internal\u001b[38;5;241m.\u001b[39mcolumn_labels]\n\u001b[1;32m   1183\u001b[0m \u001b[38;5;28;01mfor\u001b[39;00m k \u001b[38;5;129;01min\u001b[39;00m key:\n\u001b[1;32m   1184\u001b[0m     labels \u001b[38;5;241m=\u001b[39m [\n\u001b[1;32m   1185\u001b[0m         (label, \u001b[38;5;28;01mNone\u001b[39;00m \u001b[38;5;28;01mif\u001b[39;00m lbl \u001b[38;5;129;01mis\u001b[39;00m \u001b[38;5;28;01mNone\u001b[39;00m \u001b[38;5;28;01melse\u001b[39;00m lbl[\u001b[38;5;241m1\u001b[39m:])\n\u001b[1;32m   1186\u001b[0m         \u001b[38;5;28;01mfor\u001b[39;00m label, lbl \u001b[38;5;129;01min\u001b[39;00m labels\n\u001b[0;32m-> 1187\u001b[0m         \u001b[38;5;28;01mif\u001b[39;00m (lbl \u001b[38;5;129;01mis\u001b[39;00m \u001b[38;5;28;01mNone\u001b[39;00m \u001b[38;5;129;01mand\u001b[39;00m k \u001b[38;5;129;01mis\u001b[39;00m \u001b[38;5;28;01mNone\u001b[39;00m) \u001b[38;5;129;01mor\u001b[39;00m (lbl \u001b[38;5;129;01mis\u001b[39;00m \u001b[38;5;129;01mnot\u001b[39;00m \u001b[38;5;28;01mNone\u001b[39;00m \u001b[38;5;129;01mand\u001b[39;00m \u001b[43mlbl\u001b[49m\u001b[43m[\u001b[49m\u001b[38;5;241;43m0\u001b[39;49m\u001b[43m]\u001b[49m \u001b[38;5;241m==\u001b[39m k)\n\u001b[1;32m   1188\u001b[0m     ]\n\u001b[1;32m   1189\u001b[0m     \u001b[38;5;28;01mif\u001b[39;00m \u001b[38;5;28mlen\u001b[39m(labels) \u001b[38;5;241m==\u001b[39m \u001b[38;5;241m0\u001b[39m:\n\u001b[1;32m   1190\u001b[0m         \u001b[38;5;28;01mif\u001b[39;00m missing_keys \u001b[38;5;129;01mis\u001b[39;00m \u001b[38;5;28;01mNone\u001b[39;00m:\n",
      "\u001b[0;31mIndexError\u001b[0m: tuple index out of range"
     ]
    }
   ],
   "source": [
    "import calendar\n",
    "\n",
    "data = station_years_prep.to_pandas_on_spark().to_numpy()\n",
    "names = list(calendar.month_name)\n",
    "values = list(data.values())\n",
    "\n",
    "fig, axs = plt.subplots(1, 3, figsize=(9, 3), sharey=True)\n",
    "axs[0].bar(names, values)\n",
    "axs[1].scatter(names, values)\n",
    "axs[2].plot(names, values)\n",
    "fig.suptitle('Categorical Plotting')"
   ]
  },
  {
   "cell_type": "code",
   "execution_count": null,
   "id": "2de201ef-3ca3-4c22-8c80-9362e6b703bf",
   "metadata": {},
   "outputs": [],
   "source": [
    "import calendar\n",
    "\n",
    "x = np.arange(list(calendar.month_name))  # the label locations\n",
    "width = 0.25  # the width of the bars\n",
    "multiplier = 0\n",
    "\n",
    "fig, ax = plt.subplots(layout='constrained')\n",
    "\n",
    "for attribute, measurement in station_years_prep.items():\n",
    "    offset = width * multiplier\n",
    "    rects = ax.bar(x + offset, measurement, width, label=attribute)\n",
    "    ax.bar_label(rects, padding=3)\n",
    "    multiplier += 1\n",
    "\n",
    "# Add some text for labels, title and custom x-axis tick labels, etc.\n",
    "ax.set_ylabel('Length (mm)')\n",
    "ax.set_title('Penguin attributes by species')\n",
    "ax.set_xticks(x + width, species)\n",
    "ax.legend(loc='upper left', ncols=3)\n",
    "ax.set_ylim(0, 250)\n",
    "\n",
    "plt.show()"
   ]
  }
 ],
 "metadata": {
  "kernelspec": {
   "display_name": "Python 3.8 - Spark (local)",
   "language": "python",
   "name": "spark-3-python"
  },
  "language_info": {
   "codemirror_mode": {
    "name": "ipython",
    "version": 3
   },
   "file_extension": ".py",
   "mimetype": "text/x-python",
   "name": "python",
   "nbconvert_exporter": "python",
   "pygments_lexer": "ipython3",
   "version": "3.8.15"
  }
 },
 "nbformat": 4,
 "nbformat_minor": 5
}
