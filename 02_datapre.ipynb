{
 "cells": [
  {
   "cell_type": "code",
   "execution_count": 1,
   "id": "9ed7553f-425c-4504-b420-86eb996f623a",
   "metadata": {},
   "outputs": [
    {
     "data": {
      "text/html": [
       "\n",
       "        <div>\n",
       "            <p><b>SparkContext</b></p>\n",
       "\n",
       "            <p><a href=\"http://rmsryu-vm.internal.cloudapp.net:4042\">Spark UI</a></p>\n",
       "\n",
       "            <dl>\n",
       "              <dt>Version</dt>\n",
       "                <dd><code>v3.2.3</code></dd>\n",
       "              <dt>Master</dt>\n",
       "                <dd><code>local[*]</code></dd>\n",
       "              <dt>AppName</dt>\n",
       "                <dd><code>pyspark-shell</code></dd>\n",
       "            </dl>\n",
       "        </div>\n",
       "        "
      ],
      "text/plain": [
       "<SparkContext master=local[*] appName=pyspark-shell>"
      ]
     },
     "execution_count": 1,
     "metadata": {},
     "output_type": "execute_result"
    }
   ],
   "source": [
    "sc"
   ]
  },
  {
   "cell_type": "markdown",
   "id": "5c7d0dd1",
   "metadata": {},
   "source": [
    "# Loading (remote) E-OBS observations and summer days (SU) calculation\n",
    "\n",
    "Git repo: https://github.com/rmsryu/spark-climate-data.git\n",
    "Data set: https://www.ecad.eu/download/ensembles/download.php\n",
    "\n",
    "E-OBS data is loaded from the remote OpenDAP repository at KNMI. Please, note that when new versions become available the link is no longer valid since the URL is updated with the version number. Therefore, if the code below doesn't work please check the current E-OBS version and update the URL (https://www.ecad.eu/download/ensembles/download.php). \n",
    "\n",
    "# Study of daily precipitation from Station Aalsmeer Netherlands\n",
    "Data source: https://climexp.knmi.nl/data/rrrr458.dat\n",
    "Data provide by: Royal Netherlands Meteorological Institute (KNMI)"
   ]
  },
  {
   "cell_type": "code",
   "execution_count": 28,
   "id": "77387014",
   "metadata": {},
   "outputs": [],
   "source": [
    "import numpy as np\n",
    "import matplotlib.pyplot as plt\n",
    "from pyspark import SparkFiles\n",
    "from pyspark.sql.types import *\n",
    "from pyspark.sql.functions import *\n",
    "\n"
   ]
  },
  {
   "cell_type": "code",
   "execution_count": 131,
   "id": "80e6ce84-7181-4764-a5f0-b1a12076e030",
   "metadata": {},
   "outputs": [
    {
     "data": {
      "text/plain": [
       "DataFrame[date: date, precipitation: float]"
      ]
     },
     "execution_count": 131,
     "metadata": {},
     "output_type": "execute_result"
    }
   ],
   "source": [
    "data_files = 'hdfs://hadoop-vm.internal.cloudapp.net:9000/precipitation/rrrr458'\n",
    "# Obtain dataset\n",
    "data = spark.read.parquet(data_files)\n",
    "data = data.withColumn(\"precipitation\", col(\"precipitation\").cast(\"float\"))\n",
    "data.createOrReplaceTempView(\"climate\")\n",
    "data.cache()\n",
    "\n"
   ]
  },
  {
   "cell_type": "code",
   "execution_count": 132,
   "id": "408cee75-0d55-401e-819d-4f0ce3948a39",
   "metadata": {},
   "outputs": [
    {
     "name": "stdout",
     "output_type": "stream",
     "text": [
      "+-----+------------------+-----------------+---+-----+-------------------+------------------+----+\n",
      "|count|              mean|           stddev|min|25pct|              50pct|             75pct| max|\n",
      "+-----+------------------+-----------------+---+-----+-------------------+------------------+----+\n",
      "|35088|2.2715857275430413|4.495996107387759|0.0|  0.0|0.10000000149011612|2.5999999046325684|57.4|\n",
      "+-----+------------------+-----------------+---+-----+-------------------+------------------+----+\n",
      "\n"
     ]
    }
   ],
   "source": [
    "spark.sql(\"SELECT \\\n",
    "              count(precipitation) count,\\\n",
    "              mean(precipitation) mean, \\\n",
    "              stddev(precipitation) stddev, \\\n",
    "              min(precipitation) min, \\\n",
    "              percentile(precipitation,0.25) 25pct, \\\n",
    "              percentile(precipitation,0.50) 50pct, \\\n",
    "              percentile(precipitation,0.75) 75pct, \\\n",
    "              max(precipitation) max \\\n",
    "            FROM climate\").show()\n",
    "\n",
    "# same as data.summary().show()"
   ]
  },
  {
   "cell_type": "code",
   "execution_count": 133,
   "id": "5d63bed2-273d-42a9-9144-50d616ef12d1",
   "metadata": {},
   "outputs": [],
   "source": [
    "# take 20 % for visualize\n",
    "data = data[data.precipitation > 0]"
   ]
  },
  {
   "cell_type": "code",
   "execution_count": 134,
   "id": "487d8681-f7a1-4116-b36e-b259465ef682",
   "metadata": {},
   "outputs": [
    {
     "data": {
      "text/plain": [
       "[('date', 'date'), ('precipitation', 'float')]"
      ]
     },
     "execution_count": 134,
     "metadata": {},
     "output_type": "execute_result"
    }
   ],
   "source": [
    "data.dtypes"
   ]
  },
  {
   "cell_type": "code",
   "execution_count": 138,
   "id": "bd66c88b-237d-4532-ba0e-7d7862d10b78",
   "metadata": {},
   "outputs": [
    {
     "name": "stdout",
     "output_type": "stream",
     "text": [
      "{\"@version\":1,\"source_host\":\"rmsryu-vm\",\"message\":\"No Partition Defined for Window operation! Moving all data to a single partition, this can cause serious performance degradation.\",\"thread_name\":\"Thread-4\",\"@timestamp\":\"2023-03-29T19:27:34.451+0000\",\"level\":\"WARN\",\"logger_name\":\"org.apache.spark.sql.execution.window.WindowExec\"}\n",
      "{\"@version\":1,\"source_host\":\"rmsryu-vm\",\"message\":\"No Partition Defined for Window operation! Moving all data to a single partition, this can cause serious performance degradation.\",\"thread_name\":\"Thread-4\",\"@timestamp\":\"2023-03-29T19:27:34.452+0000\",\"level\":\"WARN\",\"logger_name\":\"org.apache.spark.sql.execution.window.WindowExec\"}\n",
      "{\"@version\":1,\"source_host\":\"rmsryu-vm\",\"message\":\"No Partition Defined for Window operation! Moving all data to a single partition, this can cause serious performance degradation.\",\"thread_name\":\"Thread-4\",\"@timestamp\":\"2023-03-29T19:27:34.502+0000\",\"level\":\"WARN\",\"logger_name\":\"org.apache.spark.sql.execution.window.WindowExec\"}\n"
     ]
    },
    {
     "data": {
      "image/png": "[encoded data removed]",
      "text/plain": [
       "<Figure size 640x480 with 1 Axes>"
      ]
     },
     "metadata": {},
     "output_type": "display_data"
    }
   ],
   "source": [
    "values = data.to_pandas_on_spark().precipitation.tolist()\n",
    "plt.hist(values, bins=15, color='lightblue', ec = 'black')\n",
    "fig.set_size_inches(16, 10)"
   ]
  },
  {
   "cell_type": "code",
   "execution_count": null,
   "id": "d9b8f723-dbe7-4874-9ca5-64bf8978d4af",
   "metadata": {},
   "outputs": [],
   "source": []
  }
 ],
 "metadata": {
  "kernelspec": {
   "display_name": "Python 3.8 - Spark (local)",
   "language": "python",
   "name": "spark-3-python"
  },
  "language_info": {
   "codemirror_mode": {
    "name": "ipython",
    "version": 3
   },
   "file_extension": ".py",
   "mimetype": "text/x-python",
   "name": "python",
   "nbconvert_exporter": "python",
   "pygments_lexer": "ipython3",
   "version": "3.8.15"
  }
 },
 "nbformat": 4,
 "nbformat_minor": 5
}
