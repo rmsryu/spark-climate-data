{
 "cells": [
  {
   "cell_type": "markdown",
   "id": "5c7d0dd1",
   "metadata": {},
   "source": [
    "# Loading (remote) E-OBS observations and summer days (SU) calculation\n",
    "\n",
    "Git repo: https://github.com/rmsryu/spark-climate-data.git\n",
    "Data set: https://www.ecad.eu/download/ensembles/download.php\n",
    "\n",
    "E-OBS data is loaded from the remote OpenDAP repository at KNMI. Please, note that when new versions become available the link is no longer valid since the URL is updated with the version number. Therefore, if the code below doesn't work please check the current E-OBS version and update the URL (https://www.ecad.eu/download/ensembles/download.php). \n",
    "\n",
    "https://surfobs.climate.copernicus.eu/dataaccess/access_eobs.php#datafiles\n",
    "\n",
    "Version 26.0e 0.25 deg. TX: https://knmi-ecad-assets-prd.s3.amazonaws.com/ensembles/data/Grid_0.25deg_reg_ensemble/tx_ens_mean_0.25deg_reg_v26.0e.nc"
   ]
  },
  {
   "cell_type": "code",
   "execution_count": 1,
   "id": "005fb584",
   "metadata": {},
   "outputs": [],
   "source": [
    "#pip install netCDF4\n",
    "# https://notebook.community/cpatrick/sparktip/ChrisOnSpark"
   ]
  },
  {
   "cell_type": "code",
   "execution_count": 2,
   "id": "77387014",
   "metadata": {},
   "outputs": [],
   "source": [
    "import netCDF4\n",
    "import pandas as pd"
   ]
  },
  {
   "cell_type": "code",
   "execution_count": 4,
   "id": "dc5d3146",
   "metadata": {},
   "outputs": [],
   "source": [
    "nc = netCDF4.Dataset(\"data/tx_ens_mean_0.25deg_reg_v26.0e.nc\")"
   ]
  },
  {
   "cell_type": "code",
   "execution_count": null,
   "id": "53249eea",
   "metadata": {},
   "outputs": [],
   "source": [
    "nc.variables.keys()\n",
    "\n",
    "lat = nc.variables['latitude'][:]\n",
    "lon = nc.variables['longitude'][:]\n",
    "time_var = nc.variables['time']\n",
    "dtime = netCDF4.num2date(time_var[:],time_var.units)\n",
    "precip = nc.variables['tx'][:]\n",
    "\n",
    "# a pandas.Series designed for time series of a 2D lat,lon grid\n",
    "precip_ts = pd.Series(precip, index=dtime) \n",
    "\n",
    "precip_ts.to_csv('precip.csv',index=True, header=True)"
   ]
  },
  {
   "cell_type": "code",
   "execution_count": null,
   "id": "9f699085",
   "metadata": {},
   "outputs": [],
   "source": []
  }
 ],
 "metadata": {
  "kernelspec": {
   "display_name": "Python 3 (ipykernel)",
   "language": "python",
   "name": "python3"
  },
  "language_info": {
   "codemirror_mode": {
    "name": "ipython",
    "version": 3
   },
   "file_extension": ".py",
   "mimetype": "text/x-python",
   "name": "python",
   "nbconvert_exporter": "python",
   "pygments_lexer": "ipython3",
   "version": "3.9.13"
  }
 },
 "nbformat": 4,
 "nbformat_minor": 5
}
